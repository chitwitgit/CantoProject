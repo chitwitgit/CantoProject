{
 "cells": [
  {
   "cell_type": "code",
   "execution_count": null,
   "id": "061b467c",
   "metadata": {},
   "outputs": [],
   "source": [
    "#this notebook is for testing if the model runs on my macbook, copied from https://github.com/scottykwok/cantonese-selfish-project/blob/master/Part4_wav2vec2/Run_wav2vec2_Cantonese.ipynb\n",
    "!pip install -r requirements.txt"
   ]
  },
  {
   "cell_type": "code",
   "execution_count": null,
   "id": "cb529079",
   "metadata": {},
   "outputs": [],
   "source": [
    "import IPython\n",
    "IPython.display.Audio(\"x.wav\")#replace"
   ]
  },
  {
   "cell_type": "code",
   "execution_count": null,
   "id": "f78686cb",
   "metadata": {},
   "outputs": [],
   "source": [
    "import soundfile as sf\n",
    "import torch\n",
    "from transformers import Wav2Vec2ForCTC, Wav2Vec2Processor\n",
    "\n",
    "# load pretrained model\n",
    "processor = Wav2Vec2Processor.from_pretrained(\"scottykwok/wav2vec2-large-xlsr-cantonese\")\n",
    "model = Wav2Vec2ForCTC.from_pretrained(\"scottykwok/wav2vec2-large-xlsr-cantonese\")\n",
    "\n",
    "# load audio\n",
    "audio_input, sample_rate = sf.read('x.wav')#replace\n",
    "\n",
    "# pad input values and return pt tensor\n",
    "input_values = processor(audio_input, sampling_rate=sample_rate, return_tensors=\"pt\").input_values\n",
    "\n",
    "# INFERENCE\n",
    "# retrieve logits & take argmax\n",
    "logits = model(input_values).logits\n",
    "predicted_ids = torch.argmax(logits, dim=-1)\n",
    "\n",
    "# transcribe\n",
    "transcription = processor.decode(predicted_ids[0])\n",
    "print(\"-\" *20)\n",
    "print(\"Transcription:\\n\", transcription.lower())\n",
    "print(\"-\" *20)"
   ]
  },
  {
   "cell_type": "code",
   "execution_count": 1,
   "id": "721d85b3",
   "metadata": {},
   "outputs": [
    {
     "name": "stdout",
     "output_type": "stream",
     "text": [
      "tensor([[0.3613, 0.2580],\n",
      "        [0.4368, 0.8168]])\n"
     ]
    }
   ],
   "source": [
    "# begin testing of individual modules\n",
    "import torch\n",
    "x = torch.rand(2,2)\n",
    "print(x)"
   ]
  },
  {
   "cell_type": "code",
   "execution_count": 2,
   "id": "eb2b02d2",
   "metadata": {},
   "outputs": [],
   "source": [
    "import soundfile as sf\n",
    "audio_input, sample_rate = sf.read('audio_cantonese.wav')"
   ]
  },
  {
   "cell_type": "code",
   "execution_count": 3,
   "id": "d2003cdb",
   "metadata": {},
   "outputs": [
    {
     "name": "stderr",
     "output_type": "stream",
     "text": [
      "Special tokens have been added in the vocabulary, make sure the associated word embeddings are fine-tuned or trained.\n"
     ]
    }
   ],
   "source": [
    "from transformers import Wav2Vec2ForCTC, Wav2Vec2Processor\n",
    "processor = Wav2Vec2Processor.from_pretrained(\"scottykwok/wav2vec2-large-xlsr-cantonese\")\n",
    "model = Wav2Vec2ForCTC.from_pretrained(\"scottykwok/wav2vec2-large-xlsr-cantonese\")"
   ]
  },
  {
   "cell_type": "code",
   "execution_count": null,
   "id": "400558cc",
   "metadata": {},
   "outputs": [],
   "source": [
    "#kernel dies starting from this line, meaning it is a problem with the execution of the transformers module\n",
    "input_values = processor(audio_input, sampling_rate=sample_rate, return_tensors=\"pt\").input_values"
   ]
  },
  {
   "cell_type": "code",
   "execution_count": null,
   "id": "e2b64cd9",
   "metadata": {},
   "outputs": [],
   "source": [
    "# transcribe\n",
    "transcription = processor.decode(predicted_ids[0])\n",
    "print(\"-\" *20)\n",
    "print(\"Transcription:\\n\", transcription.lower())\n",
    "print(\"-\" *20)"
   ]
  }
 ],
 "metadata": {
  "kernelspec": {
   "display_name": "Python 3",
   "language": "python",
   "name": "python3"
  },
  "language_info": {
   "codemirror_mode": {
    "name": "ipython",
    "version": 3
   },
   "file_extension": ".py",
   "mimetype": "text/x-python",
   "name": "python",
   "nbconvert_exporter": "python",
   "pygments_lexer": "ipython3",
   "version": "3.8.8"
  }
 },
 "nbformat": 4,
 "nbformat_minor": 5
}
